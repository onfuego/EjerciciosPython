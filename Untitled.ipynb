{
 "cells": [
  {
   "cell_type": "code",
   "execution_count": 46,
   "metadata": {},
   "outputs": [],
   "source": [
    "ventas = {\n",
    "\"Enero\": 15000,\n",
    "\"Febrero\": 22000,\n",
    "\"Marzo\": 12000,\n",
    "\"Abril\": 17000,\n",
    "\"Mayo\": 81000,\n",
    "\"Junio\": 13000,\n",
    "\"Julio\": 21000,\n",
    "\"Agosto\": 41200,\n",
    "\"Septiembre\": 25000,\n",
    "\"Octubre\": 21500,\n",
    "\"Noviembre\": 91000,\n",
    "\"Diciembre\": 21000,\n",
    "}"
   ]
  },
  {
   "cell_type": "code",
   "execution_count": 42,
   "metadata": {},
   "outputs": [
    {
     "name": "stdout",
     "output_type": "stream",
     "text": [
      "81000\n",
      "91000\n"
     ]
    }
   ],
   "source": [
    "#iter1.py\n",
    "for mes, monto in ventas.items():\n",
    "    if monto > 45000:\n",
    "        print(monto)"
   ]
  },
  {
   "cell_type": "code",
   "execution_count": 43,
   "metadata": {},
   "outputs": [
    {
     "name": "stdout",
     "output_type": "stream",
     "text": [
      "Mayo\n",
      "Noviembre\n"
     ]
    }
   ],
   "source": [
    "#iter2.py\n",
    "for meses, ventas in ventas.items():\n",
    "\tif ventas > 45000:\n",
    "\t\tprint(meses)"
   ]
  },
  {
   "cell_type": "code",
   "execution_count": 47,
   "metadata": {},
   "outputs": [
    {
     "name": "stdout",
     "output_type": "stream",
     "text": [
      "{'Enero': 15000, 'Febrero': 22000, 'Marzo': 12000, 'Abril': 17000, 'Mayo': 81000, 'Junio': 13000, 'Julio': 21000, 'Agosto': 41200, 'Septiembre': 25000, 'Octubre': 21500, 'Noviembre': 91000, 'Diciembre': 21000}\n"
     ]
    }
   ],
   "source": [
    "#iter3.py\n",
    "\n",
    "ventas\n",
    "\n",
    "def filter(diccionario, valor_min):\n",
    "\tdiccionario_filtrado = {}\n",
    "\tfor clave, valor in diccionario.items():\n",
    "\t\tif valor > valor_min:\n",
    "\t\t\tdiccionario_filtrado[clave] = valor\n",
    "\treturn diccionario_filtrado\n",
    "\n",
    "print(filter(ventas, 10000))"
   ]
  },
  {
   "cell_type": "code",
   "execution_count": null,
   "metadata": {},
   "outputs": [],
   "source": [
    "#busqueda.py\n",
    "\n",
    "import sys\n",
    "\n",
    "monto_buscado = sys.argv[1:]\n",
    "\n",
    "ventas = {\n",
    "\"Enero\": 15000,\"Febrero\": 22000,\"Marzo\": 12000,\"Abril\": 17000,\"Mayo\": 81000,\"Junio\": 13000,\n",
    "\"Julio\": 21000,\"Agosto\": 41200,\"Septiembre\": 25000,\"Octubre\": 21500,\"Noviembre\": 91000,\"Diciembre\": 21000,\n",
    "}\n",
    "\n",
    "ventas_inv =  {v: k for k, v in ventas.items()}\n",
    "\n",
    "\n",
    "\n",
    "def busqueda(lista, search): \n",
    "    for search in monto_buscado:\n",
    "        if int(search) in ventas_inv:\n",
    "            print(ventas_inv[int(search)])\n",
    "        else:\n",
    "            print('no encontrado')\n"
   ]
  },
  {
   "cell_type": "code",
   "execution_count": 56,
   "metadata": {},
   "outputs": [
    {
     "ename": "NameError",
     "evalue": "name 'clave' is not defined",
     "output_type": "error",
     "traceback": [
      "\u001b[1;31m---------------------------------------------------------------------------\u001b[0m",
      "\u001b[1;31mNameError\u001b[0m                                 Traceback (most recent call last)",
      "\u001b[1;32m<ipython-input-56-a8e57193fd7a>\u001b[0m in \u001b[0;36m<module>\u001b[1;34m\u001b[0m\n\u001b[0;32m      1\u001b[0m \u001b[0ma\u001b[0m \u001b[1;33m=\u001b[0m \u001b[1;33m{\u001b[0m\u001b[1;34m\"clave\"\u001b[0m\u001b[1;33m:\u001b[0m \u001b[1;33m[\u001b[0m\u001b[1;36m1\u001b[0m\u001b[1;33m,\u001b[0m \u001b[1;36m2\u001b[0m\u001b[1;33m,\u001b[0m \u001b[1;36m3\u001b[0m\u001b[1;33m,\u001b[0m \u001b[1;36m4\u001b[0m\u001b[1;33m,\u001b[0m \u001b[1;36m5\u001b[0m\u001b[1;33m]\u001b[0m\u001b[1;33m}\u001b[0m\u001b[1;33m\u001b[0m\u001b[1;33m\u001b[0m\u001b[0m\n\u001b[0;32m      2\u001b[0m \u001b[1;33m\u001b[0m\u001b[0m\n\u001b[1;32m----> 3\u001b[1;33m \u001b[0mclave\u001b[0m\u001b[1;33m[\u001b[0m\u001b[1;36m0\u001b[0m\u001b[1;33m]\u001b[0m\u001b[1;33m\u001b[0m\u001b[1;33m\u001b[0m\u001b[0m\n\u001b[0m",
      "\u001b[1;31mNameError\u001b[0m: name 'clave' is not defined"
     ]
    }
   ],
   "source": [
    "a = {\"clave\": [1, 2, 3, 4, 5]}\n",
    "\n",
    "clave[0]"
   ]
  },
  {
   "cell_type": "code",
   "execution_count": null,
   "metadata": {},
   "outputs": [],
   "source": [
    "#quarters.py\n",
    "\n",
    "\n",
    "\n",
    "ventas = {\n",
    "\"Enero\": 15000,\"Febrero\": 22000,\"Marzo\": 12000,\"Abril\": 17000,\"Mayo\": 81000,\"Junio\": 13000,\n",
    "\"Julio\": 21000,\"Agosto\": 41200,\"Septiembre\": 25000,\"Octubre\": 21500,\"Noviembre\": 91000,\"Diciembre\": 21000,\n",
    "}\n",
    "\n",
    "#Creacion de listas vacias\n",
    "listaq1 = []\n",
    "listaq2 = []\n",
    "listaq3 = []\n",
    "listaq4 = []\n",
    "\n",
    "#Se inicializa variable que contenera los valores de cada quarter\n",
    "quarters = {\"Q1\":[],\"Q2\":[],\"Q3\":[],\"Q4\":[]}\n",
    "\n",
    "#Se generar ciclos para asignacion de valores a cada lista\n",
    "for clave in ventas:\n",
    "    if clave in (\"Enero\",\"Febrero\",\"Marzo\"):\n",
    "        monto = ventas[clave]\n",
    "        listaq1.append(monto)\n",
    "    elif clave in (\"Abril\",\"Mayo\",\"Junio\"):\n",
    "        monto = ventas[clave]\n",
    "        listaq2.append(monto)\n",
    "    elif clave in (\"Julio\",\"Agosto\",\"Septiembre\"):\n",
    "        monto = ventas[clave]\n",
    "        listaq3.append(monto)\n",
    "    else:\n",
    "        monto = ventas[clave]\n",
    "        listaq4.append(monto)\n",
    "\n",
    "\n",
    "#Se construye cada quarter\n",
    "quarters[\"Q1\"] = listaq1\n",
    "quarters[\"Q2\"] = listaq2\n",
    "quarters[\"Q3\"] = listaq3\n",
    "quarters[\"Q4\"] = listaq4\n",
    "\n",
    "print(quarters)\n"
   ]
  }
 ],
 "metadata": {
  "kernelspec": {
   "display_name": "Python 3",
   "language": "python",
   "name": "python3"
  },
  "language_info": {
   "codemirror_mode": {
    "name": "ipython",
    "version": 3
   },
   "file_extension": ".py",
   "mimetype": "text/x-python",
   "name": "python",
   "nbconvert_exporter": "python",
   "pygments_lexer": "ipython3",
   "version": "3.7.3"
  }
 },
 "nbformat": 4,
 "nbformat_minor": 2
}
